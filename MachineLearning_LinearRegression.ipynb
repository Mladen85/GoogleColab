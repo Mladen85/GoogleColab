{
  "nbformat": 4,
  "nbformat_minor": 0,
  "metadata": {
    "colab": {
      "provenance": [],
      "authorship_tag": "ABX9TyOQRkIWaU3OH6FvoGTjgv3P",
      "include_colab_link": true
    },
    "kernelspec": {
      "name": "python3",
      "display_name": "Python 3"
    },
    "language_info": {
      "name": "python"
    }
  },
  "cells": [
    {
      "cell_type": "markdown",
      "metadata": {
        "id": "view-in-github",
        "colab_type": "text"
      },
      "source": [
        "<a href=\"https://colab.research.google.com/github/Mladen85/GoogleColab/blob/0004_ML_LinearRegression/MachineLearning_LinearRegression.ipynb\" target=\"_parent\"><img src=\"https://colab.research.google.com/assets/colab-badge.svg\" alt=\"Open In Colab\"/></a>"
      ]
    },
    {
      "cell_type": "markdown",
      "source": [
        "#**Linear Regression**\n",
        "Example how to implement Linear Regression algorithm in Python using Google Colab sample data.<br/>\n",
        "Since sample data is already copied in GoogleColab_DataSetExample project, files will be used from this folder.\n",
        "\n",
        "For tutorial video check [YouTube](https://youtu.be/ltXSoduiVwY)."
      ],
      "metadata": {
        "id": "iP72WIcEmWRQ"
      }
    },
    {
      "cell_type": "markdown",
      "source": [
        "##**Mount Google Drive**"
      ],
      "metadata": {
        "id": "MCAR3GlEmb5U"
      }
    },
    {
      "cell_type": "code",
      "execution_count": 30,
      "metadata": {
        "id": "feu3br7AlYVh",
        "colab": {
          "base_uri": "https://localhost:8080/"
        },
        "outputId": "093eccad-a757-40c0-be02-ad58635d78ab"
      },
      "outputs": [
        {
          "output_type": "stream",
          "name": "stdout",
          "text": [
            "Mounted at /content/gdrive/\n"
          ]
        }
      ],
      "source": [
        "from google.colab import drive\n",
        "drive.mount(\"/content/gdrive/\", force_remount=True)"
      ]
    },
    {
      "cell_type": "markdown",
      "source": [
        "##**Copy data sample from Google Drive to Colab working dir**"
      ],
      "metadata": {
        "id": "dyjgLzW5nQJK"
      }
    },
    {
      "cell_type": "code",
      "source": [
        "!cp gdrive/MyDrive/Colab/GoogleColab_DataSetExample/anscombe.json ."
      ],
      "metadata": {
        "id": "94onBoa6nRgv"
      },
      "execution_count": 31,
      "outputs": []
    },
    {
      "cell_type": "markdown",
      "source": [
        "##**Import needed libraries for KNN**\n",
        "`numpy` is imported for math operation on arrays.\n",
        "\n",
        "`pandas` is imported to load data from .json or .csv file.\n",
        "\n",
        "`sklearn datasets` is imported to import dataset for testing.\n",
        "\n",
        "`train_test_split` is imported for randomly split data for training and testing.\n",
        "\n",
        "`matplotlib` is imported to show graphs."
      ],
      "metadata": {
        "id": "tXdSaIrjnf2R"
      }
    },
    {
      "cell_type": "code",
      "source": [
        "import numpy as np\n",
        "import pandas as pd\n",
        "from sklearn import datasets\n",
        "from sklearn.model_selection import train_test_split\n",
        "import matplotlib.pyplot as plt\n",
        "#from matplotlib.colors import ListedColormap"
      ],
      "metadata": {
        "id": "2cIj2dlanm8k"
      },
      "execution_count": 32,
      "outputs": []
    },
    {
      "cell_type": "markdown",
      "source": [
        "##**Load dataset for training**\n",
        "As example [Regression](https://www.educative.io/answers/how-to-generate-datasets-for-regression-problems) dataset can be loaded from `sklearn.datasets`."
      ],
      "metadata": {
        "id": "rsjHuSTBr4IE"
      }
    },
    {
      "cell_type": "code",
      "source": [
        "X_reg, y_reg = datasets.make_regression(n_samples=100, n_features=1, noise=20, random_state=4)\n",
        "print(f\"X_reg.shape: {X_reg.shape}\")\n",
        "print(f\"y_reg.shape: {y_reg.shape}\")\n",
        "#print(f\"X_reg:\\n{X_reg}\")\n",
        "#print(f\"y_reg:\\n{y_reg}\")\n",
        "X_reg_train, X_reg_test, y_reg_train, y_reg_test = train_test_split(X_reg, y_reg, test_size=0.2, random_state=1234)\n",
        "print(f\"X_reg_train.shape: {X_reg_train.shape}\")\n",
        "print(f\"y_reg_train.shape: {y_reg_train.shape}\")\n",
        "print(f\"X_reg_test.shape: {X_reg_test.shape}\")\n",
        "print(f\"y_reg_test.shape: {y_reg_test.shape}\")\n",
        "#print(f\"X_reg_train:\\n{X_reg_train}\")\n",
        "#print(f\"y_reg_train:\\n{y_reg_train}\")"
      ],
      "metadata": {
        "colab": {
          "base_uri": "https://localhost:8080/"
        },
        "id": "ymlRM7WdqBQS",
        "outputId": "12413720-f56a-470a-e03b-5c4c128e84e1"
      },
      "execution_count": 33,
      "outputs": [
        {
          "output_type": "stream",
          "name": "stdout",
          "text": [
            "X_reg.shape: (100, 1)\n",
            "y_reg.shape: (100,)\n",
            "X_reg_train.shape: (80, 1)\n",
            "y_reg_train.shape: (80,)\n",
            "X_reg_test.shape: (20, 1)\n",
            "y_reg_test.shape: (20,)\n"
          ]
        }
      ]
    },
    {
      "cell_type": "markdown",
      "source": [
        "For this project Google Colab sample data from `anscombe.json` will be used."
      ],
      "metadata": {
        "id": "6U3J3Dl0sh2v"
      }
    },
    {
      "cell_type": "markdown",
      "source": [
        "\"X\" column from dataframe is first converted to numpy array, and then added another dimension by creating `np.array([])` with argument passed previous numpy array. This is done in order to create general `LinearRegression` class. `LinearRegresion` class calculates weights and bias for every dimension.\n",
        "\n",
        "As backup, here is saved code how I tried to convert data from dataframe to numpy array:\n",
        "```\n",
        "df_pandas = pd.read_json(\"anscombe.json\")\n",
        "dat1, dat2 = df_pandas[\"X\"], df_pandas[\"Y\"]\n",
        "#dat1.values, dat2.values\n",
        "print(len(dat1), len(dat2))\n",
        "X1 = np.array(dat1)\n",
        "X2 = np.array(dat2)\n",
        "#print(X1, '\\n', X2)\n",
        "X = np.concatenate([X1[:,None],X2[:,None]], axis=1)\n",
        "#print(X)\n",
        "```\n",
        "\n",
        "\"y\" data is converted to 1D numpy array."
      ],
      "metadata": {
        "id": "pkhUxQ6KzCja"
      }
    },
    {
      "cell_type": "code",
      "source": [
        "df_pandas = pd.read_json(\"anscombe.json\")\n",
        "#df_pandas[\"Series\"] = df_pandas[\"Series\"].astype(\"category\")\n",
        "#print(df_pandas)\n",
        "#X = df_pandas[['X','Y']].to_numpy()\n",
        "#X = np.array([df_pandas['X'].to_numpy()]).T\n",
        "#y = df_pandas['Y'].to_numpy()\n",
        "df_pandas_I = df_pandas[df_pandas[\"Series\"] == \"III\"]\n",
        "X = np.array([df_pandas_I['X'].to_numpy()]).T\n",
        "y = df_pandas_I['Y'].to_numpy()\n",
        "y[2] = 8.5\n",
        "#print(type(y))\n",
        "#y[y == 'I'] = int(0)\n",
        "#y[y == 'II'] = int(1)\n",
        "#y[y == 'III'] = int(2)\n",
        "#y[y == 'IV'] = int(3)\n",
        "#df_pandas.info()\n",
        "#print(type(X))\n",
        "#print(type(y))\n",
        "print(f\"X.shape: {X.shape}\")\n",
        "print(f\"y.shape: {y.shape}\")\n",
        "print(f\"X: \\n{X}\\n\")\n",
        "print(f\"y: \\n{y}\\n\")"
      ],
      "metadata": {
        "id": "i2Ub0TjmrSm2",
        "colab": {
          "base_uri": "https://localhost:8080/"
        },
        "outputId": "6126942b-0754-41a1-a8bd-a69413999679"
      },
      "execution_count": 34,
      "outputs": [
        {
          "output_type": "stream",
          "name": "stdout",
          "text": [
            "X.shape: (11, 1)\n",
            "y.shape: (11,)\n",
            "X: \n",
            "[[10]\n",
            " [ 8]\n",
            " [13]\n",
            " [ 9]\n",
            " [11]\n",
            " [14]\n",
            " [ 6]\n",
            " [ 4]\n",
            " [12]\n",
            " [ 7]\n",
            " [ 5]]\n",
            "\n",
            "y: \n",
            "[7.46 6.77 8.5  7.11 7.81 8.84 6.08 5.39 8.15 6.42 5.73]\n",
            "\n"
          ]
        }
      ]
    },
    {
      "cell_type": "markdown",
      "source": [
        "##**Split data and target to train and test data**\n",
        "`train_test_split` function is used to split data (randomly) to train and target data."
      ],
      "metadata": {
        "id": "Mr-_hVup-ry6"
      }
    },
    {
      "cell_type": "code",
      "source": [
        "X_train, X_test, y_train, y_test = train_test_split(X, y, test_size=0.2, random_state=1234)\n",
        "#print(X_train, X_test, y_train, y_test)\n",
        "print(f\"X_train.shape: {X_train.shape}\")\n",
        "print(f\"y_train.shape: {y_train.shape}\")\n",
        "print(f\"X_test.shape: {X_test.shape}\")\n",
        "print(f\"y_test.shape: {y_test.shape}\")\n",
        "#print(f\"X_train: \\n{X_train}\\n\")\n",
        "#print(f\"y_train: \\n{y_train}\\n\")\n",
        "#print(f\"X_test: \\n{X_test}\\n\")\n",
        "#print(f\"y_test: \\n{y_test}\\n\")\n"
      ],
      "metadata": {
        "id": "fyFI2zuJ4CIc",
        "colab": {
          "base_uri": "https://localhost:8080/"
        },
        "outputId": "4d969ba7-1a41-4814-af2d-aa64d38f1d77"
      },
      "execution_count": 35,
      "outputs": [
        {
          "output_type": "stream",
          "name": "stdout",
          "text": [
            "X_train.shape: (8, 1)\n",
            "y_train.shape: (8,)\n",
            "X_test.shape: (3, 1)\n",
            "y_test.shape: (3,)\n"
          ]
        }
      ]
    },
    {
      "cell_type": "markdown",
      "source": [
        "##**Plot data**\n",
        "###**Plot all data**"
      ],
      "metadata": {
        "id": "oi1PyvhIFV1E"
      }
    },
    {
      "cell_type": "code",
      "source": [
        "fig = plt.figure(figsize=(8,6))\n",
        "plt.scatter(X[:,0], y, color='b', marker='o', s=30)\n",
        "plt.show()"
      ],
      "metadata": {
        "colab": {
          "base_uri": "https://localhost:8080/",
          "height": 526
        },
        "id": "LMsPm3nk7noC",
        "outputId": "d2ef9c4c-9024-485b-83ca-8e63cd3ebb5a"
      },
      "execution_count": 36,
      "outputs": [
        {
          "output_type": "display_data",
          "data": {
            "text/plain": [
              "<Figure size 800x600 with 1 Axes>"
            ],
            "image/png": "[encoded data removed]"
          },
          "metadata": {}
        }
      ]
    },
    {
      "cell_type": "markdown",
      "source": [
        "###**Plot Train and Target data in subplots plots**"
      ],
      "metadata": {
        "id": "7FWMEMgMrcgK"
      }
    },
    {
      "cell_type": "code",
      "source": [
        "fig = plt.figure(figsize=(12,6))\n",
        "plt.subplot(1,2,1)\n",
        "plt.title(\"Train Data\")\n",
        "plt.scatter(X_train[:,0], y_train, color='b', marker='o', s=30)\n",
        "plt.subplot(1,2,2)\n",
        "plt.title(\"Test Data\")\n",
        "plt.scatter(X_test[:,0], y_test, color='b', marker='o', s=30)\n",
        "plt.show()\n"
      ],
      "metadata": {
        "colab": {
          "base_uri": "https://localhost:8080/",
          "height": 545
        },
        "id": "XI_I4nLqGZd_",
        "outputId": "082f86ed-bf24-40bb-8189-691f62552465"
      },
      "execution_count": 37,
      "outputs": [
        {
          "output_type": "display_data",
          "data": {
            "text/plain": [
              "<Figure size 1200x600 with 2 Axes>"
            ],
            "image/png": "[encoded data removed]"
          },
          "metadata": {}
        }
      ]
    },
    {
      "cell_type": "markdown",
      "source": [
        "##**Linear Regression class**\n",
        "LinearRegresion class.\n",
        "\n",
        "**Note:**\n",
        "\n",
        "Shape - \n",
        "\n",
        "Transponse - "
      ],
      "metadata": {
        "id": "9dsps3ZEPtfz"
      }
    },
    {
      "cell_type": "code",
      "source": [
        "class LinearRegresion:\n",
        "  def __init__(self, lr = 0.001, n_iter = 1000):\n",
        "    self.lr = lr\n",
        "    self.n_iter = n_iter\n",
        "    self.weight = None\n",
        "    self.bias = None\n",
        "\n",
        "  def fit(self, X, y):\n",
        "    n_samples, n_features = X.shape\n",
        "    self.weight = np.zeros(n_features)\n",
        "    self.bias = 0\n",
        "\n",
        "    for _ in range(self.n_iter):\n",
        "      y_pred = np.dot(X, self.weight) + self.bias\n",
        "\n",
        "      # X have to be transponded to match y dimensions for dot product\n",
        "      dw = (1/n_samples) * np.dot(X.T, (y_pred - y))\n",
        "      db = (1/n_samples) * np.sum(y_pred - y)\n",
        "\n",
        "      self.weight = self.weight - self.lr * dw\n",
        "      self.bias = self.bias - self.lr * db\n",
        "  \n",
        "\n",
        "  def predict(self, X):\n",
        "    y_pred = np.dot(X, self.weight) + self.bias\n",
        "    return y_pred\n"
      ],
      "metadata": {
        "id": "MblitxymN4lo"
      },
      "execution_count": 38,
      "outputs": []
    },
    {
      "cell_type": "markdown",
      "source": [
        "##**Run Linear Regression algorithm**\n",
        "\n",
        "Create Classifier and run Linear Regression algorithm.\n",
        "\n"
      ],
      "metadata": {
        "id": "B61oIOGdZClN"
      }
    },
    {
      "cell_type": "code",
      "source": [
        "reg = LinearRegresion(lr=0.009, n_iter=50)\n",
        "#print(f\"type(X): {type(X)}\")\n",
        "#print(X.shape)\n",
        "#print(X)\n",
        "#print(f\"type(X_train): {type(X_train)}\")\n",
        "#print(X_train.shape)\n",
        "#print(X_train)\n",
        "#print(f\"type(X_reg): {type(X_reg)}\")\n",
        "#print(X_reg.shape)\n",
        "#print(X_reg)\n",
        "reg.fit(X_train, y_train)\n",
        "predictions = reg.predict(X_test)"
      ],
      "metadata": {
        "id": "qPwvWY0kkKs5"
      },
      "execution_count": 109,
      "outputs": []
    },
    {
      "cell_type": "markdown",
      "source": [
        "##**Calculate Error**\n",
        "Mean square root (MSE) will be used."
      ],
      "metadata": {
        "id": "Xv_CmbLJ5zgG"
      }
    },
    {
      "cell_type": "code",
      "source": [
        "def mse(y_test, predictions):\n",
        "  return np.mean((y_test - predictions) ** 2)"
      ],
      "metadata": {
        "id": "G7Xflr955-fW"
      },
      "execution_count": 110,
      "outputs": []
    },
    {
      "cell_type": "code",
      "source": [
        "mse_error = mse(y_test, predictions)\n",
        "mse_error"
      ],
      "metadata": {
        "colab": {
          "base_uri": "https://localhost:8080/"
        },
        "id": "jhfJMiib6foB",
        "outputId": "f9a0d40b-be40-4397-ab4c-8d104b621d18"
      },
      "execution_count": 111,
      "outputs": [
        {
          "output_type": "execute_result",
          "data": {
            "text/plain": [
              "1.244690939758905"
            ]
          },
          "metadata": {},
          "execution_count": 111
        }
      ]
    },
    {
      "cell_type": "markdown",
      "source": [
        "###**Print test and prediceted data**"
      ],
      "metadata": {
        "id": "oBFxYQelpSOt"
      }
    },
    {
      "cell_type": "code",
      "source": [
        "print(f\"X_test:\\n{X_test}\")\n",
        "print(f\"y_test:\\n{y_test}\")\n",
        "print(f\"predictions:\\n{predictions}\")\n",
        "#print(f\"type of predictions: {type(predictions)}\")"
      ],
      "metadata": {
        "colab": {
          "base_uri": "https://localhost:8080/"
        },
        "id": "5bNzVe-FpZgI",
        "outputId": "5a64ca0e-a738-4c15-a1c2-46b083a23e6a"
      },
      "execution_count": 112,
      "outputs": [
        {
          "output_type": "stream",
          "name": "stdout",
          "text": [
            "X_test:\n",
            "[[12]\n",
            " [13]\n",
            " [ 7]]\n",
            "y_test:\n",
            "[8.15 8.5  6.42]\n",
            "predictions:\n",
            "[9.11812575 9.85405164 5.43849631]\n"
          ]
        }
      ]
    },
    {
      "cell_type": "markdown",
      "source": [
        "##**Conclusion**\n"
      ],
      "metadata": {
        "id": "BZ5s_Cp-4Iqv"
      }
    },
    {
      "cell_type": "code",
      "source": [
        "y_pred_line = reg.predict(X)\n",
        "cmap = plt.get_cmap('viridis')\n",
        "fig = plt.figure(figsize=(12,6))\n",
        "m1 = plt.scatter(X_train, y_train, color=cmap(0.2), s=10)\n",
        "m2 = plt.scatter(X_test, y_test, color=cmap(0.7), s=10)\n",
        "plt.plot(X, y_pred_line, color='black', linewidth=2, label='Prediction')\n",
        "plt.show()"
      ],
      "metadata": {
        "colab": {
          "base_uri": "https://localhost:8080/",
          "height": 522
        },
        "id": "xjRm0nABoyJ6",
        "outputId": "6c98abc8-6f5f-46a9-ec2d-b616302288f7"
      },
      "execution_count": 113,
      "outputs": [
        {
          "output_type": "display_data",
          "data": {
            "text/plain": [
              "<Figure size 1200x600 with 1 Axes>"
            ],
            "image/png": "[encoded data removed]"
          },
          "metadata": {}
        }
      ]
    },
    {
      "cell_type": "markdown",
      "source": [
        "A\n",
        "\n"
      ],
      "metadata": {
        "id": "dYu8qDyXBv-K"
      }
    },
    {
      "cell_type": "code",
      "source": [
        "#y_test_sort_index = np.argsort(X_test,0)\n",
        "y_test_sort_index = X_test[:,0].argsort()\n",
        "#print(f\"y_test_sort_index :\\n{y_test_sort_index}\")\n",
        "#print(f\"y_test_sort_index1:\\n{y_test_sort_index1}\")\n",
        "#X_test_sorted = np.sort(X_test,0)\n",
        "# Sort X_test only by first column (columns start with 0)\n",
        "X_test_sorted = X_test[X_test[:,0].argsort()]\n",
        "#print(X_test_sorted)\n",
        "y_test_sorted = np.array([y_test[i] for i in y_test_sort_index])\n",
        "#print(y_test_sort_index)\n",
        "predictions_test_sorted = np.array([predictions[i] for i in y_test_sort_index])\n",
        "print(f\"y_test:\\n{y_test}\")\n",
        "print(f\"predictions:\\n{predictions}\")\n",
        "print(f\"y_test_sort_index :\\n{y_test_sort_index}\")\n",
        "print(f\"y_test_sorted:\\n{y_test_sorted}\")\n",
        "print(f\"predictions_test_sorted:\\n{predictions_test_sorted}\")\n",
        "#predictions_test_sorted[8] = 0\n",
        "print(f\"predictions_test_sorted (after manualy setting last point to cat 0):\\n{predictions_test_sorted}\")\n",
        "#plt.rcParams['figure.figsize'] = (9, 6)\n",
        "#print(plt.rcParams['figure.figsize']) #output: (6.4, 4.8)\n",
        "# Set new plot size, from now on all plots will have new size\n",
        "plt.rcParams['figure.figsize'] = (12, 6)\n",
        "plt.figure()\n",
        "# Set subplot within general plot\n",
        "# plt.sublot(r,c,i) -> r - number of rows, c - number of columns, i - graph index (starts with 1)\n",
        "plt.subplot(1,2,1)\n",
        "plt.title(\"Test Data\")\n",
        "#plt.scatter(X_test_sorted[:,0],X_test_sorted[:,1],c=y_test_sorted,cmap=cmap,edgecolor='k',s=20)\n",
        "#plt.show()\n",
        "#print()\n",
        "#plt.figure()\n",
        "plt.subplot(1,2,2)\n",
        "plt.title(\"Predicted Data\")\n",
        "#plt.scatter(X_test_sorted[:,0],X_test_sorted[:,1],c=predictions_test_sorted,cmap=cmap,edgecolor='k',s=20)\n",
        "plt.show()"
      ],
      "metadata": {
        "colab": {
          "base_uri": "https://localhost:8080/",
          "height": 753
        },
        "id": "4bE78-KwlLKR",
        "outputId": "4c8919de-59ec-45c2-9ff7-3b1c36bcd2ad"
      },
      "execution_count": 114,
      "outputs": [
        {
          "output_type": "stream",
          "name": "stdout",
          "text": [
            "y_test:\n",
            "[8.15 8.5  6.42]\n",
            "predictions:\n",
            "[9.11812575 9.85405164 5.43849631]\n",
            "y_test_sort_index :\n",
            "[2 0 1]\n",
            "y_test_sorted:\n",
            "[6.42 8.15 8.5 ]\n",
            "predictions_test_sorted:\n",
            "[5.43849631 9.11812575 9.85405164]\n",
            "predictions_test_sorted (after manualy setting last point to cat 0):\n",
            "[5.43849631 9.11812575 9.85405164]\n"
          ]
        },
        {
          "output_type": "display_data",
          "data": {
            "text/plain": [
              "<Figure size 1200x600 with 2 Axes>"
            ],
            "image/png": "[encoded data removed]"
          },
          "metadata": {}
        }
      ]
    },
    {
      "cell_type": "markdown",
      "source": [
        "More examples on [Google Colab ploting](https://colab.research.google.com/drive/1wqIUyStkKbUc4MYPvJgIExPOFvC5cUs2#scrollTo=jyIFbvWqNRpR)."
      ],
      "metadata": {
        "id": "C9XaymKzFKJV"
      }
    },
    {
      "cell_type": "code",
      "source": [
        "df_pandas.info()"
      ],
      "metadata": {
        "colab": {
          "base_uri": "https://localhost:8080/"
        },
        "id": "EtIO__yulnJf",
        "outputId": "e31c82dc-56da-46cc-88c5-20c8578c4e12"
      },
      "execution_count": 115,
      "outputs": [
        {
          "output_type": "stream",
          "name": "stdout",
          "text": [
            "<class 'pandas.core.frame.DataFrame'>\n",
            "RangeIndex: 44 entries, 0 to 43\n",
            "Data columns (total 3 columns):\n",
            " #   Column  Non-Null Count  Dtype   \n",
            "---  ------  --------------  -----   \n",
            " 0   Series  44 non-null     category\n",
            " 1   X       44 non-null     int64   \n",
            " 2   Y       44 non-null     float64 \n",
            "dtypes: category(1), float64(1), int64(1)\n",
            "memory usage: 1.1 KB\n"
          ]
        }
      ]
    },
    {
      "cell_type": "code",
      "source": [
        "df_pandas[\"Series\"] = df_pandas[\"Series\"].astype(\"category\")"
      ],
      "metadata": {
        "id": "kRqqX1kekHrt"
      },
      "execution_count": 116,
      "outputs": []
    },
    {
      "cell_type": "code",
      "source": [
        "df_pandas.info()"
      ],
      "metadata": {
        "colab": {
          "base_uri": "https://localhost:8080/"
        },
        "id": "sjKb9y8zke1S",
        "outputId": "e4485cee-5228-414a-e788-f76cf7f9ebd4"
      },
      "execution_count": 117,
      "outputs": [
        {
          "output_type": "stream",
          "name": "stdout",
          "text": [
            "<class 'pandas.core.frame.DataFrame'>\n",
            "RangeIndex: 44 entries, 0 to 43\n",
            "Data columns (total 3 columns):\n",
            " #   Column  Non-Null Count  Dtype   \n",
            "---  ------  --------------  -----   \n",
            " 0   Series  44 non-null     category\n",
            " 1   X       44 non-null     int64   \n",
            " 2   Y       44 non-null     float64 \n",
            "dtypes: category(1), float64(1), int64(1)\n",
            "memory usage: 1.1 KB\n"
          ]
        }
      ]
    },
    {
      "cell_type": "code",
      "source": [
        "df_pandas.head()"
      ],
      "metadata": {
        "colab": {
          "base_uri": "https://localhost:8080/",
          "height": 206
        },
        "id": "WYzWD3sskicB",
        "outputId": "f6e4e124-fd0a-48ed-fd5d-7dd57226fcc6"
      },
      "execution_count": 118,
      "outputs": [
        {
          "output_type": "execute_result",
          "data": {
            "text/plain": [
              "  Series   X     Y\n",
              "0      I  10  8.04\n",
              "1      I   8  6.95\n",
              "2      I  13  7.58\n",
              "3      I   9  8.81\n",
              "4      I  11  8.33"
            ],
            "text/html": [
              "\n",
              "  <div id=\"df-06a432e1-37ad-45ef-85e4-044317c1fbef\">\n",
              "    <div class=\"colab-df-container\">\n",
              "      <div>\n",
              "<style scoped>\n",
              "    .dataframe tbody tr th:only-of-type {\n",
              "        vertical-align: middle;\n",
              "    }\n",
              "\n",
              "    .dataframe tbody tr th {\n",
              "        vertical-align: top;\n",
              "    }\n",
              "\n",
              "    .dataframe thead th {\n",
              "        text-align: right;\n",
              "    }\n",
              "</style>\n",
              "<table border=\"1\" class=\"dataframe\">\n",
              "  <thead>\n",
              "    <tr style=\"text-align: right;\">\n",
              "      <th></th>\n",
              "      <th>Series</th>\n",
              "      <th>X</th>\n",
              "      <th>Y</th>\n",
              "    </tr>\n",
              "  </thead>\n",
              "  <tbody>\n",
              "    <tr>\n",
              "      <th>0</th>\n",
              "      <td>I</td>\n",
              "      <td>10</td>\n",
              "      <td>8.04</td>\n",
              "    </tr>\n",
              "    <tr>\n",
              "      <th>1</th>\n",
              "      <td>I</td>\n",
              "      <td>8</td>\n",
              "      <td>6.95</td>\n",
              "    </tr>\n",
              "    <tr>\n",
              "      <th>2</th>\n",
              "      <td>I</td>\n",
              "      <td>13</td>\n",
              "      <td>7.58</td>\n",
              "    </tr>\n",
              "    <tr>\n",
              "      <th>3</th>\n",
              "      <td>I</td>\n",
              "      <td>9</td>\n",
              "      <td>8.81</td>\n",
              "    </tr>\n",
              "    <tr>\n",
              "      <th>4</th>\n",
              "      <td>I</td>\n",
              "      <td>11</td>\n",
              "      <td>8.33</td>\n",
              "    </tr>\n",
              "  </tbody>\n",
              "</table>\n",
              "</div>\n",
              "      <button class=\"colab-df-convert\" onclick=\"convertToInteractive('df-06a432e1-37ad-45ef-85e4-044317c1fbef')\"\n",
              "              title=\"Convert this dataframe to an interactive table.\"\n",
              "              style=\"display:none;\">\n",
              "        \n",
              "  <svg xmlns=\"http://www.w3.org/2000/svg\" height=\"24px\"viewBox=\"0 0 24 24\"\n",
              "       width=\"24px\">\n",
              "    <path d=\"M0 0h24v24H0V0z\" fill=\"none\"/>\n",
              "    <path d=\"M18.56 5.44l.94 2.06.94-2.06 2.06-.94-2.06-.94-.94-2.06-.94 2.06-2.06.94zm-11 1L8.5 8.5l.94-2.06 2.06-.94-2.06-.94L8.5 2.5l-.94 2.06-2.06.94zm10 10l.94 2.06.94-2.06 2.06-.94-2.06-.94-.94-2.06-.94 2.06-2.06.94z\"/><path d=\"M17.41 7.96l-1.37-1.37c-.4-.4-.92-.59-1.43-.59-.52 0-1.04.2-1.43.59L10.3 9.45l-7.72 7.72c-.78.78-.78 2.05 0 2.83L4 21.41c.39.39.9.59 1.41.59.51 0 1.02-.2 1.41-.59l7.78-7.78 2.81-2.81c.8-.78.8-2.07 0-2.86zM5.41 20L4 18.59l7.72-7.72 1.47 1.35L5.41 20z\"/>\n",
              "  </svg>\n",
              "      </button>\n",
              "      \n",
              "  <style>\n",
              "    .colab-df-container {\n",
              "      display:flex;\n",
              "      flex-wrap:wrap;\n",
              "      gap: 12px;\n",
              "    }\n",
              "\n",
              "    .colab-df-convert {\n",
              "      background-color: #E8F0FE;\n",
              "      border: none;\n",
              "      border-radius: 50%;\n",
              "      cursor: pointer;\n",
              "      display: none;\n",
              "      fill: #1967D2;\n",
              "      height: 32px;\n",
              "      padding: 0 0 0 0;\n",
              "      width: 32px;\n",
              "    }\n",
              "\n",
              "    .colab-df-convert:hover {\n",
              "      background-color: #E2EBFA;\n",
              "      box-shadow: 0px 1px 2px rgba(60, 64, 67, 0.3), 0px 1px 3px 1px rgba(60, 64, 67, 0.15);\n",
              "      fill: #174EA6;\n",
              "    }\n",
              "\n",
              "    [theme=dark] .colab-df-convert {\n",
              "      background-color: #3B4455;\n",
              "      fill: #D2E3FC;\n",
              "    }\n",
              "\n",
              "    [theme=dark] .colab-df-convert:hover {\n",
              "      background-color: #434B5C;\n",
              "      box-shadow: 0px 1px 3px 1px rgba(0, 0, 0, 0.15);\n",
              "      filter: drop-shadow(0px 1px 2px rgba(0, 0, 0, 0.3));\n",
              "      fill: #FFFFFF;\n",
              "    }\n",
              "  </style>\n",
              "\n",
              "      <script>\n",
              "        const buttonEl =\n",
              "          document.querySelector('#df-06a432e1-37ad-45ef-85e4-044317c1fbef button.colab-df-convert');\n",
              "        buttonEl.style.display =\n",
              "          google.colab.kernel.accessAllowed ? 'block' : 'none';\n",
              "\n",
              "        async function convertToInteractive(key) {\n",
              "          const element = document.querySelector('#df-06a432e1-37ad-45ef-85e4-044317c1fbef');\n",
              "          const dataTable =\n",
              "            await google.colab.kernel.invokeFunction('convertToInteractive',\n",
              "                                                     [key], {});\n",
              "          if (!dataTable) return;\n",
              "\n",
              "          const docLinkHtml = 'Like what you see? Visit the ' +\n",
              "            '<a target=\"_blank\" href=https://colab.research.google.com/notebooks/data_table.ipynb>data table notebook</a>'\n",
              "            + ' to learn more about interactive tables.';\n",
              "          element.innerHTML = '';\n",
              "          dataTable['output_type'] = 'display_data';\n",
              "          await google.colab.output.renderOutput(dataTable, element);\n",
              "          const docLink = document.createElement('div');\n",
              "          docLink.innerHTML = docLinkHtml;\n",
              "          element.appendChild(docLink);\n",
              "        }\n",
              "      </script>\n",
              "    </div>\n",
              "  </div>\n",
              "  "
            ]
          },
          "metadata": {},
          "execution_count": 118
        }
      ]
    },
    {
      "cell_type": "code",
      "source": [],
      "metadata": {
        "id": "VJ9cdHgSkloQ"
      },
      "execution_count": 118,
      "outputs": []
    }
  ]
}