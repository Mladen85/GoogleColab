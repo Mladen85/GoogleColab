{
  "nbformat": 4,
  "nbformat_minor": 0,
  "metadata": {
    "colab": {
      "provenance": [],
      "mount_file_id": "1WTv_0WTj-Xhthc-xXygFVipLjZbQ1kWg",
      "authorship_tag": "ABX9TyMpDTdsxk62hUdEAvCLzRaI",
      "include_colab_link": true
    },
    "kernelspec": {
      "name": "python3",
      "display_name": "Python 3"
    },
    "language_info": {
      "name": "python"
    }
  },
  "cells": [
    {
      "cell_type": "markdown",
      "metadata": {
        "id": "view-in-github",
        "colab_type": "text"
      },
      "source": [
        "<a href=\"https://colab.research.google.com/github/Mladen85/GoogleColab/blob/0001_FileHandling/GoogleColab_FileHandling.ipynb\" target=\"_parent\"><img src=\"https://colab.research.google.com/assets/colab-badge.svg\" alt=\"Open In Colab\"/></a>"
      ]
    },
    {
      "cell_type": "markdown",
      "source": [
        "#**File Handling on Google Colab**\n",
        "[File Handling in Google Colab for Data Science](https://youtu.be/InZ16tcM9Pc)\n",
        "\n",
        "---\n",
        "<br/>\n",
        "\n",
        "##**Mounting the Google Drive into Google Colab**\n",
        "Import `drive` from `google.colab` library.<br/>\n",
        "After mounting drive, click to Connect to Google Drive, choose google user account and click Allow to confirm you trust Google Drive for desktop application."
      ],
      "metadata": {
        "id": "Fd53eZkx-5vn"
      }
    },
    {
      "cell_type": "code",
      "source": [
        "from google.colab import drive\n",
        "drive.mount(\"/content/gdrive/\", force_remount=True)"
      ],
      "metadata": {
        "colab": {
          "base_uri": "https://localhost:8080/"
        },
        "id": "aPuMJT_1B70o",
        "outputId": "b1102047-2f9f-4ac2-edbb-1777dce1d0ec"
      },
      "execution_count": 1,
      "outputs": [
        {
          "output_type": "stream",
          "name": "stdout",
          "text": [
            "Mounted at /content/gdrive/\n"
          ]
        }
      ]
    },
    {
      "cell_type": "markdown",
      "source": [
        "##**List content of directory**\n",
        "Use exclamation mark (`!`) followed by bash command `ls`. "
      ],
      "metadata": {
        "id": "zetX_bk4FsIp"
      }
    },
    {
      "cell_type": "code",
      "source": [
        "!ls"
      ],
      "metadata": {
        "colab": {
          "base_uri": "https://localhost:8080/"
        },
        "id": "dwaRRiojDJd1",
        "outputId": "6e9960b3-b6ed-4bbf-c98f-01d5da604c02"
      },
      "execution_count": null,
      "outputs": [
        {
          "output_type": "stream",
          "name": "stdout",
          "text": [
            "drive  sample_data\n"
          ]
        }
      ]
    },
    {
      "cell_type": "markdown",
      "source": [
        "Use `ls -l` or `ls -la` to show more details."
      ],
      "metadata": {
        "id": "x-KdBynvHKkn"
      }
    },
    {
      "cell_type": "code",
      "source": [
        "!ls -la"
      ],
      "metadata": {
        "colab": {
          "base_uri": "https://localhost:8080/"
        },
        "id": "46xX7iADEcnc",
        "outputId": "72438031-f868-444a-d4d3-1517dc33af0a"
      },
      "execution_count": null,
      "outputs": [
        {
          "output_type": "stream",
          "name": "stdout",
          "text": [
            "ls: cannot access 'drive': Transport endpoint is not connected\n",
            "total 20\n",
            "drwxr-xr-x 1 root root 4096 May 14 16:24 .\n",
            "drwxr-xr-x 1 root root 4096 May 14 16:08 ..\n",
            "drwxr-xr-x 4 root root 4096 May 11 16:34 .config\n",
            "d????????? ? ?    ?       ?            ? drive\n",
            "drwx------ 5 root root 4096 May 14 16:24 gdrive\n",
            "drwxr-xr-x 1 root root 4096 May 11 16:35 sample_data\n"
          ]
        }
      ]
    },
    {
      "cell_type": "markdown",
      "source": [
        "##**Create a directory**\n",
        "Use `mkdir` command to create direcotry"
      ],
      "metadata": {
        "id": "oOPeBdkYIQf2"
      }
    },
    {
      "cell_type": "code",
      "source": [
        "!mkdir compiled_data"
      ],
      "metadata": {
        "id": "ufg-Kb5hH-WG"
      },
      "execution_count": null,
      "outputs": []
    },
    {
      "cell_type": "code",
      "source": [
        "!ls -la"
      ],
      "metadata": {
        "colab": {
          "base_uri": "https://localhost:8080/"
        },
        "id": "AkyQrTe7If-b",
        "outputId": "42cef699-c494-42b8-b769-acfdb86d8684"
      },
      "execution_count": null,
      "outputs": [
        {
          "output_type": "stream",
          "name": "stdout",
          "text": [
            "ls: cannot access 'drive': Transport endpoint is not connected\n",
            "total 24\n",
            "drwxr-xr-x 1 root root 4096 May 14 16:39 .\n",
            "drwxr-xr-x 1 root root 4096 May 14 16:08 ..\n",
            "drwxr-xr-x 2 root root 4096 May 14 16:39 compiled_data\n",
            "drwxr-xr-x 4 root root 4096 May 11 16:34 .config\n",
            "d????????? ? ?    ?       ?            ? drive\n",
            "drwx------ 5 root root 4096 May 14 16:24 gdrive\n",
            "drwxr-xr-x 1 root root 4096 May 11 16:35 sample_data\n"
          ]
        }
      ]
    },
    {
      "cell_type": "markdown",
      "source": [
        "##**Create files**\n",
        "###**Create files in Bash command line (`touch`)**\n",
        "Use command `touch` to create new file"
      ],
      "metadata": {
        "id": "fw0eAf1kIlKG"
      }
    },
    {
      "cell_type": "code",
      "source": [
        "!touch hello.txt"
      ],
      "metadata": {
        "id": "CpdgB4dsIiiT"
      },
      "execution_count": null,
      "outputs": []
    },
    {
      "cell_type": "markdown",
      "source": [
        "###**Create files in Bash command line (using redirection `>`)**\n",
        "Use Bash redirection operator `>` to create new file and write data to it using `echo` command."
      ],
      "metadata": {
        "id": "X_u-RNq1I-9N"
      }
    },
    {
      "cell_type": "code",
      "source": [
        "!echo \"The quick brown fox jumped over the lazy cat\" > hello2.txt"
      ],
      "metadata": {
        "id": "Vj77jzvQI2Dm"
      },
      "execution_count": null,
      "outputs": []
    },
    {
      "cell_type": "markdown",
      "source": [
        "###**Create file in Python**"
      ],
      "metadata": {
        "id": "CD23Ra8qOWqj"
      }
    },
    {
      "cell_type": "code",
      "source": [
        "with open(\"data2.txt\", \"w\") as data2:\n",
        "  data2.write(\"New file created in Python!\")"
      ],
      "metadata": {
        "id": "Xm9Qa811OPoU"
      },
      "execution_count": null,
      "outputs": []
    },
    {
      "cell_type": "markdown",
      "source": [
        "###**Download files from the Internet**\n",
        "Use `wget` command followed by http address to download file."
      ],
      "metadata": {
        "id": "8YvFa-TXQmI6"
      }
    },
    {
      "cell_type": "code",
      "source": [
        "!wget https://github.com/dataprofessor/data/raw/master/weather-weka.csv"
      ],
      "metadata": {
        "id": "R2Mkb_WMQeUe"
      },
      "execution_count": null,
      "outputs": []
    },
    {
      "cell_type": "markdown",
      "source": [
        "##**Read files**\n",
        "###**Read files in Bash command line**\n",
        "List file using `cat` command."
      ],
      "metadata": {
        "id": "wcHw-6nrRFC9"
      }
    },
    {
      "cell_type": "code",
      "source": [
        "!cat hello2.txt"
      ],
      "metadata": {
        "colab": {
          "base_uri": "https://localhost:8080/"
        },
        "id": "rguPwnpvRZ2-",
        "outputId": "356b9918-ff7e-4b01-acc8-4a74081c0eb6"
      },
      "execution_count": null,
      "outputs": [
        {
          "output_type": "stream",
          "name": "stdout",
          "text": [
            "The quick brown fox jumped over the lazy cat\n"
          ]
        }
      ]
    },
    {
      "cell_type": "code",
      "source": [
        "!cat data2.txt"
      ],
      "metadata": {
        "colab": {
          "base_uri": "https://localhost:8080/"
        },
        "id": "AlIx8agSRda4",
        "outputId": "e5bcd3da-3842-4312-ddff-5aebe031afe0"
      },
      "execution_count": null,
      "outputs": [
        {
          "output_type": "stream",
          "name": "stdout",
          "text": [
            "New file created in Python!"
          ]
        }
      ]
    },
    {
      "cell_type": "markdown",
      "source": [
        "###**Read files in Python**"
      ],
      "metadata": {
        "id": "6VqHB5hxRmQR"
      }
    },
    {
      "cell_type": "code",
      "source": [
        "with open(\"data2.txt\", \"r\") as data2:\n",
        "  data_content = data2.read()\n",
        "  print(data_content)\n",
        "  data_content.strip('\\n')\n",
        "  print(data_content)"
      ],
      "metadata": {
        "colab": {
          "base_uri": "https://localhost:8080/"
        },
        "id": "hV5V8iShRif_",
        "outputId": "a49ef39c-3f21-4ff3-fc26-f5a78f4c4c43"
      },
      "execution_count": null,
      "outputs": [
        {
          "output_type": "stream",
          "name": "stdout",
          "text": [
            "New file created in Python!\n",
            "New file created in Python!\n"
          ]
        }
      ]
    },
    {
      "cell_type": "markdown",
      "source": [
        "##**Accessing the Google Drive from Google Colab**\n",
        "List content of the **Colab/GoogleColab_FileHandling** folder in Google Drive."
      ],
      "metadata": {
        "id": "lSlROSe8XYIq"
      }
    },
    {
      "cell_type": "code",
      "source": [
        "!ls \"/content/gdrive/MyDrive/Colab/GoogleColab_FileHandling/\""
      ],
      "metadata": {
        "colab": {
          "base_uri": "https://localhost:8080/"
        },
        "id": "8af604BmVvmZ",
        "outputId": "5130e404-23df-4828-d41b-898f0c49ddbb"
      },
      "execution_count": 2,
      "outputs": [
        {
          "output_type": "stream",
          "name": "stdout",
          "text": [
            "GoogleColab_FileHandling.ipynb\thelloworld.txt\n"
          ]
        }
      ]
    },
    {
      "cell_type": "markdown",
      "source": [
        "##**Copy files from Google Drive into Google Colab**\n",
        "Check your current path using `pwd` Bash command."
      ],
      "metadata": {
        "id": "eFg9b2KsJHI5"
      }
    },
    {
      "cell_type": "code",
      "source": [
        "!pwd"
      ],
      "metadata": {
        "colab": {
          "base_uri": "https://localhost:8080/"
        },
        "id": "qs8G1emrG-za",
        "outputId": "49ff7497-8a0e-4da5-cfc4-791f601039e0"
      },
      "execution_count": null,
      "outputs": [
        {
          "output_type": "stream",
          "name": "stdout",
          "text": [
            "/content\n"
          ]
        }
      ]
    },
    {
      "cell_type": "markdown",
      "source": [
        "If you try to change directory to Google Drive, it will not change path (you are still in `/content` directory)."
      ],
      "metadata": {
        "id": "ts-3RdwAS3F0"
      }
    },
    {
      "cell_type": "code",
      "source": [
        "!cd \"/content/gdrive/MyDrive/Colab/GoogleColab_FileHandling\"\n",
        "!pwd"
      ],
      "metadata": {
        "colab": {
          "base_uri": "https://localhost:8080/"
        },
        "id": "uWEJ-N6BSWVe",
        "outputId": "99090d18-b6ba-4046-c9de-4bede5b20a43"
      },
      "execution_count": 3,
      "outputs": [
        {
          "output_type": "stream",
          "name": "stdout",
          "text": [
            "/content\n"
          ]
        }
      ]
    },
    {
      "cell_type": "markdown",
      "source": [
        "So instead you should copy files from Google Drive (apsolute path) to here (use `.` as current directory)."
      ],
      "metadata": {
        "id": "nbwhst9uT7NZ"
      }
    },
    {
      "cell_type": "code",
      "source": [
        "!cp \"/content/gdrive/MyDrive/Colab/GoogleColab_FileHandling/helloworld.txt\" .\n",
        "!ls -l"
      ],
      "metadata": {
        "colab": {
          "base_uri": "https://localhost:8080/"
        },
        "id": "dM2VQ7LjUbBP",
        "outputId": "f0d553d1-a9e7-4e5f-8c38-e5fc1a6e02a2"
      },
      "execution_count": null,
      "outputs": [
        {
          "output_type": "stream",
          "name": "stdout",
          "text": [
            "ls: cannot access 'drive': Transport endpoint is not connected\n",
            "total 12\n",
            "d????????? ? ?    ?       ?            ? drive\n",
            "drwx------ 5 root root 4096 May 14 21:15 gdrive\n",
            "-rw------- 1 root root   13 May 14 22:12 helloworld.txt\n",
            "drwxr-xr-x 1 root root 4096 May 11 16:35 sample_data\n"
          ]
        }
      ]
    },
    {
      "cell_type": "markdown",
      "source": [
        "##**Current working directory**\n",
        "###**Current working directory in Bash**\n",
        "To list path to current working directory use `pwd` Bash command."
      ],
      "metadata": {
        "id": "Bw9hpXdcU7nX"
      }
    },
    {
      "cell_type": "code",
      "source": [
        "!pwd"
      ],
      "metadata": {
        "colab": {
          "base_uri": "https://localhost:8080/"
        },
        "id": "YxTLnhUpUq5S",
        "outputId": "c6a1fd23-7e3e-44b3-8c1b-86a0e0d3837a"
      },
      "execution_count": null,
      "outputs": [
        {
          "output_type": "stream",
          "name": "stdout",
          "text": [
            "/content\n"
          ]
        }
      ]
    },
    {
      "cell_type": "markdown",
      "source": [
        "###**Current working directory in Python**\n",
        "Use `os` library to read path to current directory."
      ],
      "metadata": {
        "id": "wt3CUh4MVjCh"
      }
    },
    {
      "cell_type": "code",
      "source": [
        "import os\n",
        "os.getcwd()"
      ],
      "metadata": {
        "colab": {
          "base_uri": "https://localhost:8080/",
          "height": 35
        },
        "id": "mg6Zdq0tVcO8",
        "outputId": "73f2570a-4dd8-41cd-c210-b69be1a595ed"
      },
      "execution_count": null,
      "outputs": [
        {
          "output_type": "execute_result",
          "data": {
            "text/plain": [
              "'/content'"
            ],
            "application/vnd.google.colaboratory.intrinsic+json": {
              "type": "string"
            }
          },
          "metadata": {},
          "execution_count": 17
        }
      ]
    },
    {
      "cell_type": "markdown",
      "source": [
        "##**Copy files from Google Colab to Google Drive**\n",
        "To copy files from Google Colab to Google Drive use same command as in chapter [Copy files from Google Drive into Google Colab](https://colab.research.google.com/drive/1WTv_0WTj-Xhthc-xXygFVipLjZbQ1kWg?authuser=1#scrollTo=eFg9b2KsJHI5), and reverse paths."
      ],
      "metadata": {
        "id": "O2_YZj1eWApQ"
      }
    },
    {
      "cell_type": "code",
      "source": [
        "!echo \"Mladen\" >> helloworld.txt\n",
        "!cp helloworld.txt /content/gdrive/MyDrive/Colab/GoogleColab_FileHandling"
      ],
      "metadata": {
        "id": "EQgb9Yi7V9vT"
      },
      "execution_count": null,
      "outputs": []
    },
    {
      "cell_type": "code",
      "source": [
        "!cat /content/gdrive/MyDrive/Colab/GoogleColab_FileHandling/helloworld.txt"
      ],
      "metadata": {
        "colab": {
          "base_uri": "https://localhost:8080/"
        },
        "id": "1zrMRrSsXOSx",
        "outputId": "a50217e0-185e-4541-c295-15adbf332b9e"
      },
      "execution_count": null,
      "outputs": [
        {
          "output_type": "stream",
          "name": "stdout",
          "text": [
            "Hello World!\n",
            "Mladen\n"
          ]
        }
      ]
    },
    {
      "cell_type": "markdown",
      "source": [
        "##**Move and Delete files**\n",
        "Files can be moved from one directory to another using `mv` Bash command.<br/>\n",
        "Files can be deleted using `rm` Bash command.<br/><br/>\n",
        "\n",
        "##**Delete directory**\n",
        "Empty directories can be deleted using `rmdir` Bash command.<br/>\n",
        "If you want to remove directory with all of its content use `rm -r` or `rm -rf` Bash commands."
      ],
      "metadata": {
        "id": "7fMuLyvCXtx7"
      }
    },
    {
      "cell_type": "markdown",
      "source": [
        "##**Test to move `.ipynb` file to other location in Google Drive**\n",
        "(Copied from **MyDrive/Colab\\ Notebooks/** to **MyDrive/Colab/GoogleColab_FileHandling/** directory)"
      ],
      "metadata": {
        "id": "9ZjL4HU2Y3kp"
      }
    },
    {
      "cell_type": "code",
      "source": [
        "!mkdir /content/gdrive/MyDrive/Colab/GoogleColab_FileHandling\n",
        "!cp /content/gdrive/MyDrive/Colab\\ Notebooks/GoogleColab_FileHandling.ipynb /content/gdrive/MyDrive/Colab/GoogleColab_FileHandling/GoogleColab_FileHandling.ipynb"
      ],
      "metadata": {
        "id": "0HWon49QXYEX"
      },
      "execution_count": null,
      "outputs": []
    },
    {
      "cell_type": "code",
      "source": [
        "!ls /content/gdrive/MyDrive/Colab/GoogleColab_FileHandling"
      ],
      "metadata": {
        "colab": {
          "base_uri": "https://localhost:8080/"
        },
        "id": "gh5ZdEZqaaC6",
        "outputId": "1ff067c0-0f46-4eac-e8e7-bb15683a04aa"
      },
      "execution_count": 4,
      "outputs": [
        {
          "output_type": "stream",
          "name": "stdout",
          "text": [
            "GoogleColab_FileHandling.ipynb\thelloworld.txt\n"
          ]
        }
      ]
    }
  ]
}