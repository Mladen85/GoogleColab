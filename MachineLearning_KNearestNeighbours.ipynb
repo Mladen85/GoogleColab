{
  "nbformat": 4,
  "nbformat_minor": 0,
  "metadata": {
    "colab": {
      "provenance": [],
      "authorship_tag": "ABX9TyMBoLIiVGhCxjalxcV6kzLA",
      "include_colab_link": true
    },
    "kernelspec": {
      "name": "python3",
      "display_name": "Python 3"
    },
    "language_info": {
      "name": "python"
    }
  },
  "cells": [
    {
      "cell_type": "markdown",
      "metadata": {
        "id": "view-in-github",
        "colab_type": "text"
      },
      "source": [
        "<a href=\"https://colab.research.google.com/github/Mladen85/GoogleColab/blob/0003_ML_KNearestNeighbours/MachineLearning_KNearestNeighbours.ipynb\" target=\"_parent\"><img src=\"https://colab.research.google.com/assets/colab-badge.svg\" alt=\"Open In Colab\"/></a>"
      ]
    },
    {
      "cell_type": "markdown",
      "source": [
        "#**K-Nearest Neighbours**\n",
        "Example how to implement K-Nearest Neighbours algorithm in Python using Google Colab sample data.<br/>\n",
        "Since sample data is already copied in GoogleColab_DataSetExample project, files will be used from this folder."
      ],
      "metadata": {
        "id": "iP72WIcEmWRQ"
      }
    },
    {
      "cell_type": "markdown",
      "source": [
        "##**Mount Google Drive**"
      ],
      "metadata": {
        "id": "MCAR3GlEmb5U"
      }
    },
    {
      "cell_type": "code",
      "execution_count": null,
      "metadata": {
        "id": "feu3br7AlYVh",
        "colab": {
          "base_uri": "https://localhost:8080/"
        },
        "outputId": "451e998d-72d5-4230-ab91-95480b087982"
      },
      "outputs": [
        {
          "output_type": "stream",
          "name": "stdout",
          "text": [
            "Mounted at /content/gdrive/\n"
          ]
        }
      ],
      "source": [
        "from google.colab import drive\n",
        "drive.mount(\"/content/gdrive/\", force_remount=True)"
      ]
    },
    {
      "cell_type": "markdown",
      "source": [
        "##**Copy data sample from Google Drive to Colab working dir**"
      ],
      "metadata": {
        "id": "dyjgLzW5nQJK"
      }
    },
    {
      "cell_type": "code",
      "source": [
        "!cp gdrive/MyDrive/Colab/GoogleColab_DataSetExample/anscombe.json ."
      ],
      "metadata": {
        "id": "94onBoa6nRgv"
      },
      "execution_count": null,
      "outputs": []
    },
    {
      "cell_type": "markdown",
      "source": [
        "##**Import needed libraries for KNN**\n",
        "`numpy` is imported for math operation on arrays.\n",
        "\n",
        "`pandas` is imported to load data from .json or .csv file.\n",
        "\n",
        "`sklearn datasets` is imported to import dataset for testing.\n",
        "\n",
        "`train_test_split` is imported for ...\n",
        "\n",
        "`matplotlib` is imported to show graphs."
      ],
      "metadata": {
        "id": "tXdSaIrjnf2R"
      }
    },
    {
      "cell_type": "code",
      "source": [
        "import numpy as np\n",
        "import pandas as pd\n",
        "from sklearn import datasets\n",
        "from sklearn.model_selection import train_test_split\n",
        "import matplotlib.pyplot as plt\n",
        "from matplotlib.colors import ListedColormap"
      ],
      "metadata": {
        "id": "2cIj2dlanm8k"
      },
      "execution_count": null,
      "outputs": []
    },
    {
      "cell_type": "markdown",
      "source": [
        "##**Load dataset for training**\n",
        "As example [Iris](https://en.wikipedia.org/wiki/Iris_flower_data_set) dataset can be loaded from `sklearn.datasets`."
      ],
      "metadata": {
        "id": "rsjHuSTBr4IE"
      }
    },
    {
      "cell_type": "code",
      "source": [
        "iris = datasets.load_iris()\n",
        "#print(iris)\n",
        "X_iris, y_iris = iris.data, iris.target\n",
        "print(f\"X_iris length: {len(X_iris)}\")\n",
        "print(f\"y_iris length: {len(y_iris)}\")\n",
        "#print(\"X_iris: \\n\", X_iris)\n",
        "#print(\"y_iris: \\n\", y_iris)"
      ],
      "metadata": {
        "colab": {
          "base_uri": "https://localhost:8080/"
        },
        "id": "ymlRM7WdqBQS",
        "outputId": "b599f4b6-09f6-4cbe-e8b4-e626d112531e"
      },
      "execution_count": null,
      "outputs": [
        {
          "output_type": "stream",
          "name": "stdout",
          "text": [
            "X_iris length: 150\n",
            "y_iris length: 150\n"
          ]
        }
      ]
    },
    {
      "cell_type": "markdown",
      "source": [
        "For this project Google Colab sample data from `anscombe.json` will be used."
      ],
      "metadata": {
        "id": "6U3J3Dl0sh2v"
      }
    },
    {
      "cell_type": "markdown",
      "source": [
        "As backup, here is saved code how I tried to convert data from dataframe to numpy array:\n",
        "```\n",
        "df_pandas = pd.read_json(\"anscombe.json\")\n",
        "dat1, dat2 = df_pandas[\"X\"], df_pandas[\"Y\"]\n",
        "#dat1.values, dat2.values\n",
        "print(len(dat1), len(dat2))\n",
        "X1 = np.array(dat1)\n",
        "X2 = np.array(dat2)\n",
        "#print(X1, '\\n', X2)\n",
        "X = np.concatenate([X1[:,None],X2[:,None]], axis=1)\n",
        "#print(X)\n",
        "```\n",
        "\n",
        "Convert target data (y) to int.\n",
        "\n",
        "Here I left how I initialy did, but easier way is to directly convert Series column to category object type.\n",
        "\n",
        "Example how to do this is [here](https://colab.research.google.com/drive/1OioPTj8d7kjO_DxtpqpeAaLDNyBn3uW_?authuser=1#scrollTo=kRqqX1kekHrt&line=1&uniqifier=1).\n",
        "\n",
        "`df_pandas.info()` prints types of each column.\n",
        "\n",
        "`df_pandas[\"Series\"] = df_pandas[\"Series\"].astype(\"category\")` converts type of \"Series\" column (that is at this moment unknow type, object) to category type (0, 1, 2...)."
      ],
      "metadata": {
        "id": "pkhUxQ6KzCja"
      }
    },
    {
      "cell_type": "code",
      "source": [
        "df_pandas = pd.read_json(\"anscombe.json\")\n",
        "X = df_pandas[['X','Y']].to_numpy()\n",
        "y = df_pandas[\"Series\"].to_numpy()\n",
        "#print(type(y))\n",
        "y[y == 'I'] = int(0)\n",
        "y[y == 'II'] = int(1)\n",
        "y[y == 'III'] = int(2)\n",
        "y[y == 'IV'] = int(3)\n",
        "#print(type(y))\n",
        "#print(f\"X: \\n{X}\\n\")\n",
        "#print(f\"y: \\n{y}\\n\")"
      ],
      "metadata": {
        "id": "i2Ub0TjmrSm2"
      },
      "execution_count": null,
      "outputs": []
    },
    {
      "cell_type": "markdown",
      "source": [
        "##**Split data and target to train and test data**\n",
        "`train_test_split` function is used to split data (randomly) to train and target data."
      ],
      "metadata": {
        "id": "Mr-_hVup-ry6"
      }
    },
    {
      "cell_type": "code",
      "source": [
        "X_train, X_test, y_train, y_test = train_test_split(X, y, test_size=0.2, random_state=1234)\n",
        "#print(X_train, X_test, y_train, y_test)"
      ],
      "metadata": {
        "id": "fyFI2zuJ4CIc"
      },
      "execution_count": null,
      "outputs": []
    },
    {
      "cell_type": "markdown",
      "source": [
        "##**Plot data**"
      ],
      "metadata": {
        "id": "oi1PyvhIFV1E"
      }
    },
    {
      "cell_type": "code",
      "source": [
        "cmap = ListedColormap(['#FF0000','#00FF00','#0000FF','#FF00FF'])\n",
        "plt.rcParams['figure.figsize'] = (6.4, 4.8)\n",
        "plt.figure()\n",
        "plt.title(\"Entire Data\")\n",
        "plt.scatter(X[:,0],X[:,1],c=y,cmap=cmap,edgecolor='k',s=20)\n",
        "plt.show()"
      ],
      "metadata": {
        "colab": {
          "base_uri": "https://localhost:8080/",
          "height": 452
        },
        "id": "LMsPm3nk7noC",
        "outputId": "9b35884d-556c-4b13-88dd-a8eeb5ae850f"
      },
      "execution_count": null,
      "outputs": [
        {
          "output_type": "display_data",
          "data": {
            "text/plain": [
              "<Figure size 640x480 with 1 Axes>"
            ],
            "image/png": "[encoded data removed]"
          },
          "metadata": {}
        }
      ]
    },
    {
      "cell_type": "markdown",
      "source": [
        "##**Conclusion for *anscombe.json* file after ploting data**\n",
        "\n",
        "After analysing plot data, it is concluded that this data is not sutable for KNN algorithm because points are not grouped so that KNN could be performed correctly.\n",
        "\n",
        "For education purpose, this data will be used to see how KNN algorithm performs with this kind of data."
      ],
      "metadata": {
        "id": "7FWMEMgMrcgK"
      }
    },
    {
      "cell_type": "code",
      "source": [
        "plt.figure()\n",
        "plt.title(\"Train Data\")\n",
        "plt.scatter(X_train[:,0],X_train[:,1],c=y_train,cmap=cmap,edgecolor='k',s=20,)\n",
        "plt.show()\n",
        "print()\n",
        "plt.figure()\n",
        "plt.title(\"Test Data\")\n",
        "plt.scatter(X_test[:,0],X_test[:,1],c=y_test,cmap=cmap,edgecolor='k',s=20)\n",
        "plt.show()\n"
      ],
      "metadata": {
        "colab": {
          "base_uri": "https://localhost:8080/",
          "height": 904
        },
        "id": "XI_I4nLqGZd_",
        "outputId": "d71480fb-6ef0-4464-f8d7-e0f0fd091dfb"
      },
      "execution_count": null,
      "outputs": [
        {
          "output_type": "display_data",
          "data": {
            "text/plain": [
              "<Figure size 640x480 with 1 Axes>"
            ],
            "image/png": "[encoded data removed]"
          },
          "metadata": {}
        },
        {
          "output_type": "stream",
          "name": "stdout",
          "text": [
            "\n"
          ]
        },
        {
          "output_type": "display_data",
          "data": {
            "text/plain": [
              "<Figure size 640x480 with 1 Axes>"
            ],
            "image/png": "[encoded data removed]"
          },
          "metadata": {}
        }
      ]
    },
    {
      "cell_type": "markdown",
      "source": [
        "##**Euclidean plane distance**\n",
        "Euclidean plane is Euclidean space of dimension 2.\n",
        "\n",
        "Create helper function for calculating distance in Euclidean plane.\n",
        "\n",
        "Inputs are two 1d arrays of same size."
      ],
      "metadata": {
        "id": "RBSF049GMmi2"
      }
    },
    {
      "cell_type": "code",
      "source": [
        "def euclidian_plane_distance(x1, x2):\n",
        "  dist = np.sqrt(np.sum((x1 - x2)**2))\n",
        "  return dist"
      ],
      "metadata": {
        "id": "c5ek-aJBHqgz"
      },
      "execution_count": null,
      "outputs": []
    },
    {
      "cell_type": "markdown",
      "source": [
        "##**K-Nearest Neighbours class**\n",
        "KNN class\n",
        "\n",
        "**Note:**\n",
        "\n",
        "`np.argsort()` create new array of indexes from original array, after sorting values of original array.\n",
        "\n",
        "Example:\n",
        "```\n",
        "argsort_org_array = np.array([3, 1, 0, 4, 2])\n",
        "argsort_new_array = np.argsort(argsort_org_array)\n",
        "argsort_new_array\n",
        "```\n",
        "Output:\n",
        "```\n",
        "array([2, 1, 4, 0, 3])\n",
        "```\n",
        "Explanation:\n",
        "\n",
        "After sorting original array, sorted array will looklike:\n",
        "\n",
        "`[0, 1, 2, 3, 4]`.\n",
        "\n",
        "Indexes of original array in new soretd array are (first value is index, value in brackets is value from original array):\n",
        "\n",
        "`[2(0), 1(1), 4(2), 0(3), 3(4)]`"
      ],
      "metadata": {
        "id": "9dsps3ZEPtfz"
      }
    },
    {
      "cell_type": "code",
      "source": [
        "argsort_org_array = np.array([3, 1, 0, 4, 2])\n",
        "argsort_new_array = np.argsort(argsort_org_array)\n",
        "argsort_new_array"
      ],
      "metadata": {
        "colab": {
          "base_uri": "https://localhost:8080/"
        },
        "id": "gLr7QJvnTOhR",
        "outputId": "a2251da7-2eab-4bac-ba21-910f32e01db2"
      },
      "execution_count": null,
      "outputs": [
        {
          "output_type": "execute_result",
          "data": {
            "text/plain": [
              "array([2, 1, 4, 0, 3])"
            ]
          },
          "metadata": {},
          "execution_count": 10
        }
      ]
    },
    {
      "cell_type": "code",
      "source": [
        "from collections import Counter\n",
        "\n",
        "class KNN:\n",
        "  def __init__(self, k):\n",
        "    self.k = k\n",
        "\n",
        "  def fit(self, X, y):\n",
        "    self.X_train = X\n",
        "    self.y_train = y\n",
        "  \n",
        "  def predict(self, X):\n",
        "    predctions = np.array([self._predict(x) for x in X])\n",
        "    return predctions\n",
        "  \n",
        "  def _predict(self, x):\n",
        "    # Compute distance\n",
        "    distances = [euclidian_plane_distance(x, x_train)\\\n",
        "                 for x_train in self.X_train]\n",
        "\n",
        "    # Get the closest k\n",
        "    # indices - plural of index\n",
        "    k_indices = np.argsort(distances)[:self.k] #after sorting distances get the first k elements (smallest indices of sorted distances -> smallest distance)\n",
        "    k_nearest_labels = [self.y_train[i] for i in k_indices]\n",
        "    \n",
        "    # Majority vote\n",
        "    most_common = Counter(k_nearest_labels).most_common()\n",
        "\n",
        "    # Return first result from most common \n",
        "    return most_common[0][0]"
      ],
      "metadata": {
        "id": "MblitxymN4lo"
      },
      "execution_count": null,
      "outputs": []
    },
    {
      "cell_type": "markdown",
      "source": [
        "##**Run KNN algorithm**\n",
        "\n",
        "Create Classifier and run KNN algorithm.\n",
        "\n"
      ],
      "metadata": {
        "id": "B61oIOGdZClN"
      }
    },
    {
      "cell_type": "code",
      "source": [
        "clf = KNN(10)\n",
        "clf.fit(X_train, y_train)\n",
        "predictions = clf.predict(X_test)"
      ],
      "metadata": {
        "id": "qPwvWY0kkKs5"
      },
      "execution_count": null,
      "outputs": []
    },
    {
      "cell_type": "markdown",
      "source": [
        "###**Print test and prediceted data**"
      ],
      "metadata": {
        "id": "oBFxYQelpSOt"
      }
    },
    {
      "cell_type": "code",
      "source": [
        "print(f\"X_test:\\n{X_test}\")\n",
        "print(f\"y_test:\\n{y_test}\")\n",
        "# Prediction is type of list, convert to numpy\n",
        "print(f\"predictions:\\n{predictions}\")\n",
        "#print(f\"type of predictions: {type(predictions)}\")"
      ],
      "metadata": {
        "colab": {
          "base_uri": "https://localhost:8080/"
        },
        "id": "5bNzVe-FpZgI",
        "outputId": "90fe3353-4691-45e7-cb13-fb3c4973c603"
      },
      "execution_count": null,
      "outputs": [
        {
          "output_type": "stream",
          "name": "stdout",
          "text": [
            "X_test:\n",
            "[[ 4.    5.39]\n",
            " [ 6.    6.13]\n",
            " [ 8.    6.58]\n",
            " [19.   12.5 ]\n",
            " [12.   10.84]\n",
            " [13.    8.74]\n",
            " [11.    8.33]\n",
            " [ 7.    7.26]\n",
            " [ 5.    5.68]]\n",
            "y_test:\n",
            "[2 1 3 3 0 1 0 1 0]\n",
            "predictions:\n",
            "[2 2 3 2 1 1 1 3 2]\n"
          ]
        }
      ]
    },
    {
      "cell_type": "markdown",
      "source": [
        "###**Calculate accuracy**"
      ],
      "metadata": {
        "id": "DmOm5gMvkzMy"
      }
    },
    {
      "cell_type": "code",
      "source": [
        "acc = np.sum(predictions == y_test) / len(y_test)\n",
        "acc"
      ],
      "metadata": {
        "colab": {
          "base_uri": "https://localhost:8080/"
        },
        "id": "--q1mSUpklFf",
        "outputId": "ffc325b1-41be-4c4d-ecf2-64e8fb16ce5e"
      },
      "execution_count": null,
      "outputs": [
        {
          "output_type": "execute_result",
          "data": {
            "text/plain": [
              "0.3333333333333333"
            ]
          },
          "metadata": {},
          "execution_count": 14
        }
      ]
    },
    {
      "cell_type": "markdown",
      "source": [
        "##**Conclusion**\n",
        "After comparing y_test and predictions arrays, there are two hits in prediction that maches y_test, and accuracy is 0.2222222222222222 (2/9).\n",
        "\n",
        "**Note:** After setting number of k points to 10, accuracy is incrised to 0.3333333333333333.\n",
        "\n",
        "X_test and y_test are values that are randomly shuffled in `train_test_split()` function. For analysing purpose X_test, y_test and predictions are sorted by x-axis, to compare results easily."
      ],
      "metadata": {
        "id": "BZ5s_Cp-4Iqv"
      }
    },
    {
      "cell_type": "code",
      "source": [
        "plt.figure()\n",
        "plt.title(\"Entire Data\")\n",
        "plt.scatter(X[:,0],X[:,1],c=y,cmap=cmap,edgecolor='k',s=20)\n",
        "plt.show()"
      ],
      "metadata": {
        "colab": {
          "base_uri": "https://localhost:8080/",
          "height": 452
        },
        "id": "xjRm0nABoyJ6",
        "outputId": "f084c3f0-40f2-4a83-ad8d-84dfffe43da0"
      },
      "execution_count": null,
      "outputs": [
        {
          "output_type": "display_data",
          "data": {
            "text/plain": [
              "<Figure size 640x480 with 1 Axes>"
            ],
            "image/png": "[encoded data removed]"
          },
          "metadata": {}
        }
      ]
    },
    {
      "cell_type": "markdown",
      "source": [
        "Last two graphs shows that 1st and 5th pointes matches (by color -> dataframe[\"Series\"]).\n",
        "\n",
        "(**Note:** last point was changed to 0 so that plot would assign value 0 to red and value 1 to green, otherverse if there is no value 0, red will take value 1 and green is not displayed, for some reason.)\n",
        "\n",
        "This is because `most_common()` function is used.\n",
        "\n",
        "Same result is achived if second most common value is returned in `KNN._prediction` method (`return most_common[1][0]`).\n",
        "\n",
        "If there was calculated interpolation line for each series and then compared distance to that line, resoult could be more accurate.\n",
        "\n"
      ],
      "metadata": {
        "id": "dYu8qDyXBv-K"
      }
    },
    {
      "cell_type": "code",
      "source": [
        "#y_test_sort_index = np.argsort(X_test,0)\n",
        "y_test_sort_index = X_test[:,0].argsort()\n",
        "#print(f\"y_test_sort_index :\\n{y_test_sort_index}\")\n",
        "#print(f\"y_test_sort_index1:\\n{y_test_sort_index1}\")\n",
        "#X_test_sorted = np.sort(X_test,0)\n",
        "# Sort X_test only by first column (columns start with 0)\n",
        "X_test_sorted = X_test[X_test[:,0].argsort()]\n",
        "#print(X_test_sorted)\n",
        "y_test_sorted = np.array([y_test[i] for i in y_test_sort_index])\n",
        "#print(y_test_sort_index)\n",
        "predictions_test_sorted = np.array([predictions[i] for i in y_test_sort_index])\n",
        "print(f\"y_test:\\n{y_test}\")\n",
        "print(f\"predictions:\\n{predictions}\")\n",
        "print(f\"y_test_sort_index :\\n{y_test_sort_index}\")\n",
        "print(f\"y_test_sorted:\\n{y_test_sorted}\")\n",
        "print(f\"predictions_test_sorted:\\n{predictions_test_sorted}\")\n",
        "predictions_test_sorted[8] = 0\n",
        "print(f\"predictions_test_sorted (after manualy setting last point to cat 0):\\n{predictions_test_sorted}\")\n",
        "#plt.rcParams['figure.figsize'] = (9, 6)\n",
        "#print(plt.rcParams['figure.figsize']) #output: (6.4, 4.8)\n",
        "# Set new plot size, from now on all plots will have new size\n",
        "plt.rcParams['figure.figsize'] = (12, 6)\n",
        "plt.figure()\n",
        "# Set subplot within general plot\n",
        "# plt.sublot(r,c,i) -> r - number of rows, c - number of columns, i - graph index (starts with 1)\n",
        "plt.subplot(1,2,1)\n",
        "plt.title(\"Test Data\")\n",
        "plt.scatter(X_test_sorted[:,0],X_test_sorted[:,1],c=y_test_sorted,cmap=cmap,edgecolor='k',s=20)\n",
        "#plt.show()\n",
        "#print()\n",
        "#plt.figure()\n",
        "plt.subplot(1,2,2)\n",
        "plt.title(\"Predicted Data\")\n",
        "plt.scatter(X_test_sorted[:,0],X_test_sorted[:,1],c=predictions_test_sorted,cmap=cmap,edgecolor='k',s=20)\n",
        "plt.show()"
      ],
      "metadata": {
        "colab": {
          "base_uri": "https://localhost:8080/",
          "height": 753
        },
        "id": "4bE78-KwlLKR",
        "outputId": "7606141c-66e1-4552-d607-4b366f9ab42a"
      },
      "execution_count": null,
      "outputs": [
        {
          "output_type": "stream",
          "name": "stdout",
          "text": [
            "y_test:\n",
            "[2 1 3 3 0 1 0 1 0]\n",
            "predictions:\n",
            "[2 2 3 2 1 1 1 3 2]\n",
            "y_test_sort_index :\n",
            "[0 8 1 7 2 6 4 5 3]\n",
            "y_test_sorted:\n",
            "[2 0 1 1 3 0 0 1 3]\n",
            "predictions_test_sorted:\n",
            "[2 2 2 3 3 1 1 1 2]\n",
            "predictions_test_sorted (after manualy setting last point to cat 0):\n",
            "[2 2 2 3 3 1 1 1 0]\n"
          ]
        },
        {
          "output_type": "display_data",
          "data": {
            "text/plain": [
              "<Figure size 1200x600 with 2 Axes>"
            ],
            "image/png": "[encoded data removed]"
          },
          "metadata": {}
        }
      ]
    },
    {
      "cell_type": "markdown",
      "source": [
        "More examples on [Google Colab ploting](https://colab.research.google.com/drive/1wqIUyStkKbUc4MYPvJgIExPOFvC5cUs2#scrollTo=jyIFbvWqNRpR)."
      ],
      "metadata": {
        "id": "C9XaymKzFKJV"
      }
    },
    {
      "cell_type": "code",
      "source": [
        "df_pandas.info()"
      ],
      "metadata": {
        "colab": {
          "base_uri": "https://localhost:8080/"
        },
        "id": "EtIO__yulnJf",
        "outputId": "db61fe64-c2a6-4ac0-e5ae-d2d8a22a01e7"
      },
      "execution_count": null,
      "outputs": [
        {
          "output_type": "stream",
          "name": "stdout",
          "text": [
            "<class 'pandas.core.frame.DataFrame'>\n",
            "RangeIndex: 44 entries, 0 to 43\n",
            "Data columns (total 3 columns):\n",
            " #   Column  Non-Null Count  Dtype  \n",
            "---  ------  --------------  -----  \n",
            " 0   Series  44 non-null     object \n",
            " 1   X       44 non-null     int64  \n",
            " 2   Y       44 non-null     float64\n",
            "dtypes: float64(1), int64(1), object(1)\n",
            "memory usage: 1.2+ KB\n"
          ]
        }
      ]
    },
    {
      "cell_type": "code",
      "source": [
        "df_pandas[\"Series\"] = df_pandas[\"Series\"].astype(\"category\")"
      ],
      "metadata": {
        "id": "kRqqX1kekHrt"
      },
      "execution_count": null,
      "outputs": []
    },
    {
      "cell_type": "code",
      "source": [
        "df_pandas.info()"
      ],
      "metadata": {
        "colab": {
          "base_uri": "https://localhost:8080/"
        },
        "id": "sjKb9y8zke1S",
        "outputId": "101f8672-0217-4642-fd0b-fb09e43dab0e"
      },
      "execution_count": null,
      "outputs": [
        {
          "output_type": "stream",
          "name": "stdout",
          "text": [
            "<class 'pandas.core.frame.DataFrame'>\n",
            "RangeIndex: 44 entries, 0 to 43\n",
            "Data columns (total 3 columns):\n",
            " #   Column  Non-Null Count  Dtype   \n",
            "---  ------  --------------  -----   \n",
            " 0   Series  44 non-null     category\n",
            " 1   X       44 non-null     int64   \n",
            " 2   Y       44 non-null     float64 \n",
            "dtypes: category(1), float64(1), int64(1)\n",
            "memory usage: 1.1 KB\n"
          ]
        }
      ]
    },
    {
      "cell_type": "code",
      "source": [
        "df_pandas.head()"
      ],
      "metadata": {
        "colab": {
          "base_uri": "https://localhost:8080/",
          "height": 206
        },
        "id": "WYzWD3sskicB",
        "outputId": "d5db8ff9-e2a6-4ee8-8eef-19eb70450985"
      },
      "execution_count": null,
      "outputs": [
        {
          "output_type": "execute_result",
          "data": {
            "text/plain": [
              "  Series   X     Y\n",
              "0      0  10  8.04\n",
              "1      0   8  6.95\n",
              "2      0  13  7.58\n",
              "3      0   9  8.81\n",
              "4      0  11  8.33"
            ],
            "text/html": [
              "\n",
              "  <div id=\"df-cffd1aee-f25e-4184-9117-836e212dc2bd\">\n",
              "    <div class=\"colab-df-container\">\n",
              "      <div>\n",
              "<style scoped>\n",
              "    .dataframe tbody tr th:only-of-type {\n",
              "        vertical-align: middle;\n",
              "    }\n",
              "\n",
              "    .dataframe tbody tr th {\n",
              "        vertical-align: top;\n",
              "    }\n",
              "\n",
              "    .dataframe thead th {\n",
              "        text-align: right;\n",
              "    }\n",
              "</style>\n",
              "<table border=\"1\" class=\"dataframe\">\n",
              "  <thead>\n",
              "    <tr style=\"text-align: right;\">\n",
              "      <th></th>\n",
              "      <th>Series</th>\n",
              "      <th>X</th>\n",
              "      <th>Y</th>\n",
              "    </tr>\n",
              "  </thead>\n",
              "  <tbody>\n",
              "    <tr>\n",
              "      <th>0</th>\n",
              "      <td>0</td>\n",
              "      <td>10</td>\n",
              "      <td>8.04</td>\n",
              "    </tr>\n",
              "    <tr>\n",
              "      <th>1</th>\n",
              "      <td>0</td>\n",
              "      <td>8</td>\n",
              "      <td>6.95</td>\n",
              "    </tr>\n",
              "    <tr>\n",
              "      <th>2</th>\n",
              "      <td>0</td>\n",
              "      <td>13</td>\n",
              "      <td>7.58</td>\n",
              "    </tr>\n",
              "    <tr>\n",
              "      <th>3</th>\n",
              "      <td>0</td>\n",
              "      <td>9</td>\n",
              "      <td>8.81</td>\n",
              "    </tr>\n",
              "    <tr>\n",
              "      <th>4</th>\n",
              "      <td>0</td>\n",
              "      <td>11</td>\n",
              "      <td>8.33</td>\n",
              "    </tr>\n",
              "  </tbody>\n",
              "</table>\n",
              "</div>\n",
              "      <button class=\"colab-df-convert\" onclick=\"convertToInteractive('df-cffd1aee-f25e-4184-9117-836e212dc2bd')\"\n",
              "              title=\"Convert this dataframe to an interactive table.\"\n",
              "              style=\"display:none;\">\n",
              "        \n",
              "  <svg xmlns=\"http://www.w3.org/2000/svg\" height=\"24px\"viewBox=\"0 0 24 24\"\n",
              "       width=\"24px\">\n",
              "    <path d=\"M0 0h24v24H0V0z\" fill=\"none\"/>\n",
              "    <path d=\"M18.56 5.44l.94 2.06.94-2.06 2.06-.94-2.06-.94-.94-2.06-.94 2.06-2.06.94zm-11 1L8.5 8.5l.94-2.06 2.06-.94-2.06-.94L8.5 2.5l-.94 2.06-2.06.94zm10 10l.94 2.06.94-2.06 2.06-.94-2.06-.94-.94-2.06-.94 2.06-2.06.94z\"/><path d=\"M17.41 7.96l-1.37-1.37c-.4-.4-.92-.59-1.43-.59-.52 0-1.04.2-1.43.59L10.3 9.45l-7.72 7.72c-.78.78-.78 2.05 0 2.83L4 21.41c.39.39.9.59 1.41.59.51 0 1.02-.2 1.41-.59l7.78-7.78 2.81-2.81c.8-.78.8-2.07 0-2.86zM5.41 20L4 18.59l7.72-7.72 1.47 1.35L5.41 20z\"/>\n",
              "  </svg>\n",
              "      </button>\n",
              "      \n",
              "  <style>\n",
              "    .colab-df-container {\n",
              "      display:flex;\n",
              "      flex-wrap:wrap;\n",
              "      gap: 12px;\n",
              "    }\n",
              "\n",
              "    .colab-df-convert {\n",
              "      background-color: #E8F0FE;\n",
              "      border: none;\n",
              "      border-radius: 50%;\n",
              "      cursor: pointer;\n",
              "      display: none;\n",
              "      fill: #1967D2;\n",
              "      height: 32px;\n",
              "      padding: 0 0 0 0;\n",
              "      width: 32px;\n",
              "    }\n",
              "\n",
              "    .colab-df-convert:hover {\n",
              "      background-color: #E2EBFA;\n",
              "      box-shadow: 0px 1px 2px rgba(60, 64, 67, 0.3), 0px 1px 3px 1px rgba(60, 64, 67, 0.15);\n",
              "      fill: #174EA6;\n",
              "    }\n",
              "\n",
              "    [theme=dark] .colab-df-convert {\n",
              "      background-color: #3B4455;\n",
              "      fill: #D2E3FC;\n",
              "    }\n",
              "\n",
              "    [theme=dark] .colab-df-convert:hover {\n",
              "      background-color: #434B5C;\n",
              "      box-shadow: 0px 1px 3px 1px rgba(0, 0, 0, 0.15);\n",
              "      filter: drop-shadow(0px 1px 2px rgba(0, 0, 0, 0.3));\n",
              "      fill: #FFFFFF;\n",
              "    }\n",
              "  </style>\n",
              "\n",
              "      <script>\n",
              "        const buttonEl =\n",
              "          document.querySelector('#df-cffd1aee-f25e-4184-9117-836e212dc2bd button.colab-df-convert');\n",
              "        buttonEl.style.display =\n",
              "          google.colab.kernel.accessAllowed ? 'block' : 'none';\n",
              "\n",
              "        async function convertToInteractive(key) {\n",
              "          const element = document.querySelector('#df-cffd1aee-f25e-4184-9117-836e212dc2bd');\n",
              "          const dataTable =\n",
              "            await google.colab.kernel.invokeFunction('convertToInteractive',\n",
              "                                                     [key], {});\n",
              "          if (!dataTable) return;\n",
              "\n",
              "          const docLinkHtml = 'Like what you see? Visit the ' +\n",
              "            '<a target=\"_blank\" href=https://colab.research.google.com/notebooks/data_table.ipynb>data table notebook</a>'\n",
              "            + ' to learn more about interactive tables.';\n",
              "          element.innerHTML = '';\n",
              "          dataTable['output_type'] = 'display_data';\n",
              "          await google.colab.output.renderOutput(dataTable, element);\n",
              "          const docLink = document.createElement('div');\n",
              "          docLink.innerHTML = docLinkHtml;\n",
              "          element.appendChild(docLink);\n",
              "        }\n",
              "      </script>\n",
              "    </div>\n",
              "  </div>\n",
              "  "
            ]
          },
          "metadata": {},
          "execution_count": 25
        }
      ]
    },
    {
      "cell_type": "code",
      "source": [],
      "metadata": {
        "id": "VJ9cdHgSkloQ"
      },
      "execution_count": null,
      "outputs": []
    }
  ]
}